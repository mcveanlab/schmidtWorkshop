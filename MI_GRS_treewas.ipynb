{
 "cells": [
  {
   "cell_type": "code",
   "execution_count": 1,
   "metadata": {
    "collapsed": true,
    "hide_input": true,
    "init_cell": true
   },
   "outputs": [],
   "source": [
    "## load in functions for workshop\n",
    "source(\"schmidtWorkshop.R\")"
   ]
  },
  {
   "cell_type": "markdown",
   "metadata": {},
   "source": [
    "# TreeWAS Analysis in UK Biobank data sets\n",
    "\n",
    "Framework to test for association between genetic variation and any given UK Biobank clinical phenotype. Features include:\n",
    "1. Accomodates tests for association with different types of genetic variation, such as SNPs and polygenic risk scores.\n",
    "2. Jointly analyses and quantifies evidence for association at each clinical phenotype and estimates the genetic coefficients of effects.\n",
    "3. Performs conditional analysis to control for confounder effects (e.g., age and sex) or to find independent association signals within a locus.\n",
    "4. Models the correlation structure of genetic effects across observed clinical phenotypes using a priori knowledge of phenotype relationships obtained from a diagnosis classification tree, such as the ICD-10."
   ]
  },
  {
   "cell_type": "markdown",
   "metadata": {
    "hide_input": true
   },
   "source": [
    "# MI GRS TreeWAS in the UK Biobank HES data set\n",
    "Load precomputed likelihood surfaces for each node in the classification tree"
   ]
  },
  {
   "cell_type": "code",
   "execution_count": 2,
   "metadata": {
    "collapsed": true,
    "init_cell": true
   },
   "outputs": [],
   "source": [
    "MI_GRS.data = MI_GRS.lk.surfs()\n",
    "MI_GRS.lk.surfs = MI_GRS.data$llk.data\n",
    "MI_GRS.tree = MI_GRS.data$tree\n",
    "MI_GRS.prior = MI_GRS.data$prior"
   ]
  },
  {
   "cell_type": "markdown",
   "metadata": {},
   "source": [
    "Plot the likelihood surfaces at a terminal node"
   ]
  },
  {
   "cell_type": "code",
   "execution_count": 6,
   "metadata": {
    "init_cell": true
   },
   "outputs": [
    {
     "data": {
      "image/png": "[encoded data removed]",
      "text/plain": [
       "Plot with title “I25.1 Atherosclerotic heart disease”"
      ]
     },
     "metadata": {},
     "output_type": "display_data"
    }
   ],
   "source": [
    "code <- 'I251'  # or try code G35\n",
    "grs.plot.lk.surface(\n",
    "    code,\n",
    "    tree     = MI_GRS.tree,\n",
    "    prior    = MI_GRS.prior,\n",
    "    lk.surfs = MI_GRS.lk.surfs\n",
    ")"
   ]
  },
  {
   "cell_type": "markdown",
   "metadata": {},
   "source": [
    "The prior $\\theta$ determines the expected correlation between genetic coefficients across phenotypes. The coefficients at a parent node can be inherited by a child node with probability $e^{-\\theta}$ or can transition to a new uncorrelated value, with probability $1-e^{\\theta}$.\n",
    "\n",
    "The prior $\\pi_1$ determines the expected number of nodes in the tree with non-zero coefficients."
   ]
  },
  {
   "cell_type": "code",
   "execution_count": 7,
   "metadata": {
    "collapsed": true,
    "init_cell": true
   },
   "outputs": [],
   "source": [
    "## Define prior values\n",
    "theta <- 1/3\n",
    "pi1 <- 1/1000\n",
    "## Transition probabilities\n",
    "p.stay <- exp(-theta);\n",
    "p.switch <- 1-p.stay;"
   ]
  },
  {
   "cell_type": "markdown",
   "metadata": {},
   "source": [
    "Calculate the evidence, $\\text{BF}_{\\text{tree}}$, that the MI GRS is associated with at least one diagnosis term in the ICD-10 classification tree."
   ]
  },
  {
   "cell_type": "code",
   "execution_count": 3,
   "metadata": {
    "init_cell": true,
    "scrolled": true
   },
   "outputs": [
    {
     "ename": "ERROR",
     "evalue": "Error in grs.calc.lBF(tree = MI_GRS.tree, prior = MI_GRS.prior, p.stay = p.stay, : object 'p.stay' not found\n",
     "output_type": "error",
     "traceback": [
      "Error in grs.calc.lBF(tree = MI_GRS.tree, prior = MI_GRS.prior, p.stay = p.stay, : object 'p.stay' not found\nTraceback:\n",
      "1. grs.calc.lBF(tree = MI_GRS.tree, prior = MI_GRS.prior, p.stay = p.stay, \n .     p.switch = p.switch, llk.data = MI_GRS.lk.surfs)"
     ]
    }
   ],
   "source": [
    "lBF = grs.calc.lBF(\n",
    "    tree     = MI_GRS.tree,\n",
    "    prior    = MI_GRS.prior, \n",
    "    p.stay   = p.stay, \n",
    "    p.switch = p.switch, \n",
    "    llk.data = MI_GRS.lk.surfs\n",
    ")\n",
    "paste0(\"The Tree BF is \", round(lBF,2),'.')"
   ]
  },
  {
   "cell_type": "markdown",
   "metadata": {},
   "source": [
    "Calculate marginal posterior on risk profile across the diagnosis terms in the ICD-10."
   ]
  },
  {
   "cell_type": "code",
   "execution_count": null,
   "metadata": {
    "collapsed": true,
    "init_cell": true
   },
   "outputs": [],
   "source": [
    "pp = grs.marginal.posterior(\n",
    "    tree     = MI_GRS.tree, \n",
    "    prior    = MI_GRS.prior, \n",
    "    p.stay   = p.stay, \n",
    "    p.switch = p.switch,\n",
    "    llk.data = MI_GRS.lk.surfs\n",
    ")"
   ]
  },
  {
   "cell_type": "markdown",
   "metadata": {},
   "source": [
    "Calculate number of active nodes (non-zero genetic coefficients) in the tree"
   ]
  },
  {
   "cell_type": "code",
   "execution_count": 8,
   "metadata": {
    "init_cell": true
   },
   "outputs": [
    {
     "data": {
      "text/html": [
       "'There are 355 active nodes.'"
      ],
      "text/latex": [
       "'There are 355 active nodes.'"
      ],
      "text/markdown": [
       "'There are 355 active nodes.'"
      ],
      "text/plain": [
       "[1] \"There are 355 active nodes.\""
      ]
     },
     "metadata": {},
     "output_type": "display_data"
    }
   ],
   "source": [
    "pp.thr = 0.75\n",
    "paste0(\"There are \",sum(pp$POST_ACTIVE >= pp.thr), \" active nodes.\")"
   ]
  },
  {
   "cell_type": "markdown",
   "metadata": {},
   "source": [
    "Plot the ICD-10 classification tree with the TreeWAS results. Trim the tree such that only nodes with $PP$ above a defined threshold are shown."
   ]
  },
  {
   "cell_type": "code",
   "execution_count": null,
   "metadata": {
    "collapsed": true,
    "init_cell": true,
    "scrolled": true
   },
   "outputs": [],
   "source": [
    "plot <- grs.draw_tree(\n",
    "    tree         = MI_GRS.tree,\n",
    "    pp           = pp,\n",
    "    tree_title   = \"MI GRS\",\n",
    "    trim_tree_pp = 0.25\n",
    ")\n",
    "plot"
   ]
  },
  {
   "cell_type": "markdown",
   "metadata": {},
   "source": [
    "Look at the ICD-10 codes identified by TreeWAS analysis but not in the univariate analysis."
   ]
  },
  {
   "cell_type": "code",
   "execution_count": 10,
   "metadata": {
    "init_cell": true
   },
   "outputs": [
    {
     "data": {},
     "metadata": {},
     "output_type": "display_data"
    },
    {
     "data": {
      "text/html": [
       "<table>\n",
       "<thead><tr><th scope=col>coding</th><th scope=col>meaning</th><th scope=col>COUNTS</th><th scope=col>post</th><th scope=col>Univariate</th></tr></thead>\n",
       "<tbody>\n",
       "\t<tr><td>I73                                                                  </td><td>I73 Other peripheral vascular diseases                               </td><td>    1                                                                </td><td>6.372607e-06                                                         </td><td>FALSE                                                                </td></tr>\n",
       "\t<tr><td>I702                                                                 </td><td>I70.2 Atherosclerosis of arteries of the extremities                 </td><td>  555                                                                </td><td>1.537223e-04                                                         </td><td>FALSE                                                                </td></tr>\n",
       "\t<tr><td>I220                                                                 </td><td>I22.0 Subsequent myocardial infarction of anterior wall              </td><td>   92                                                                </td><td>1.713416e-04                                                         </td><td>FALSE                                                                </td></tr>\n",
       "\t<tr><td>I228                                                                 </td><td>I22.8 Subsequent myocardial infarction of other sites                </td><td>   78                                                                </td><td>2.316062e-04                                                         </td><td>FALSE                                                                </td></tr>\n",
       "\t<tr><td>Z959                                                                 </td><td>Z95.9 Presence of cardiac and vascular implant and graft, unspecified</td><td>  224                                                                </td><td>3.849170e-04                                                         </td><td>FALSE                                                                </td></tr>\n",
       "\t<tr><td>I490                                                                 </td><td>I49.0 Ventricular fibrillation and flutter                           </td><td>  333                                                                </td><td>4.912591e-04                                                         </td><td>FALSE                                                                </td></tr>\n",
       "\t<tr><td>I460                                                                 </td><td>I46.0 Cardiac arrest with successful resuscitation                   </td><td>  586                                                                </td><td>5.373121e-04                                                         </td><td>FALSE                                                                </td></tr>\n",
       "\t<tr><td>I639                                                                 </td><td>I63.9 Cerebral infarction, unspecified                               </td><td> 2442                                                                </td><td>5.426719e-04                                                         </td><td>FALSE                                                                </td></tr>\n",
       "\t<tr><td>I517                                                                 </td><td>I51.7 Cardiomegaly                                                   </td><td> 2565                                                                </td><td>7.276683e-04                                                         </td><td>FALSE                                                                </td></tr>\n",
       "\t<tr><td>I64                                                                  </td><td>I64 Stroke, not specified as haemorrhage or infarction               </td><td> 1073                                                                </td><td>9.561926e-04                                                         </td><td>FALSE                                                                </td></tr>\n",
       "\t<tr><td>Z921                                                                 </td><td>Z92.1 Personal history of long-term (current) use of anticoagulants  </td><td>10091                                                                </td><td>1.023093e-03                                                         </td><td>FALSE                                                                </td></tr>\n",
       "\t<tr><td>E039                                                                 </td><td>E03.9 Hypothyroidism, unspecified                                    </td><td>14158                                                                </td><td>2.716036e-03                                                         </td><td>FALSE                                                                </td></tr>\n",
       "\t<tr><td>I440                                                                 </td><td>I44.0 Atrioventricular block, first degree                           </td><td>  988                                                                </td><td>2.854749e-03                                                         </td><td>FALSE                                                                </td></tr>\n",
       "\t<tr><td>I351                                                                 </td><td>I35.1 Aortic (valve) insufficiency                                   </td><td>  686                                                                </td><td>4.097951e-03                                                         </td><td>FALSE                                                                </td></tr>\n",
       "\t<tr><td>I447                                                                 </td><td>I44.7 Left bundle-branch block, unspecified                          </td><td> 1738                                                                </td><td>4.123368e-03                                                         </td><td>FALSE                                                                </td></tr>\n",
       "\t<tr><td>D125                                                                 </td><td>D12.5 Sigmoid colon                                                  </td><td> 4996                                                                </td><td>5.782384e-03                                                         </td><td>FALSE                                                                </td></tr>\n",
       "\t<tr><td>E784                                                                 </td><td>E78.4 Other hyperlipidaemia                                          </td><td>   75                                                                </td><td>6.693471e-03                                                         </td><td>FALSE                                                                </td></tr>\n",
       "\t<tr><td>T823                                                                 </td><td>T82.3 Mechanical complication of other vascular grafts               </td><td>   96                                                                </td><td>6.848616e-03                                                         </td><td>FALSE                                                                </td></tr>\n",
       "\t<tr><td>R072                                                                 </td><td>R07.2 Precordial pain                                                </td><td> 3582                                                                </td><td>8.786688e-03                                                         </td><td>FALSE                                                                </td></tr>\n",
       "</tbody>\n",
       "</table>\n"
      ],
      "text/latex": [
       "\\begin{tabular}{r|lllll}\n",
       " coding & meaning & COUNTS & post & Univariate\\\\\n",
       "\\hline\n",
       "\t I73                                                                   & I73 Other peripheral vascular diseases                                &     1                                                                 & 6.372607e-06                                                          & FALSE                                                                \\\\\n",
       "\t I702                                                                  & I70.2 Atherosclerosis of arteries of the extremities                  &   555                                                                 & 1.537223e-04                                                          & FALSE                                                                \\\\\n",
       "\t I220                                                                  & I22.0 Subsequent myocardial infarction of anterior wall               &    92                                                                 & 1.713416e-04                                                          & FALSE                                                                \\\\\n",
       "\t I228                                                                  & I22.8 Subsequent myocardial infarction of other sites                 &    78                                                                 & 2.316062e-04                                                          & FALSE                                                                \\\\\n",
       "\t Z959                                                                  & Z95.9 Presence of cardiac and vascular implant and graft, unspecified &   224                                                                 & 3.849170e-04                                                          & FALSE                                                                \\\\\n",
       "\t I490                                                                  & I49.0 Ventricular fibrillation and flutter                            &   333                                                                 & 4.912591e-04                                                          & FALSE                                                                \\\\\n",
       "\t I460                                                                  & I46.0 Cardiac arrest with successful resuscitation                    &   586                                                                 & 5.373121e-04                                                          & FALSE                                                                \\\\\n",
       "\t I639                                                                  & I63.9 Cerebral infarction, unspecified                                &  2442                                                                 & 5.426719e-04                                                          & FALSE                                                                \\\\\n",
       "\t I517                                                                  & I51.7 Cardiomegaly                                                    &  2565                                                                 & 7.276683e-04                                                          & FALSE                                                                \\\\\n",
       "\t I64                                                                   & I64 Stroke, not specified as haemorrhage or infarction                &  1073                                                                 & 9.561926e-04                                                          & FALSE                                                                \\\\\n",
       "\t Z921                                                                  & Z92.1 Personal history of long-term (current) use of anticoagulants   & 10091                                                                 & 1.023093e-03                                                          & FALSE                                                                \\\\\n",
       "\t E039                                                                  & E03.9 Hypothyroidism, unspecified                                     & 14158                                                                 & 2.716036e-03                                                          & FALSE                                                                \\\\\n",
       "\t I440                                                                  & I44.0 Atrioventricular block, first degree                            &   988                                                                 & 2.854749e-03                                                          & FALSE                                                                \\\\\n",
       "\t I351                                                                  & I35.1 Aortic (valve) insufficiency                                    &   686                                                                 & 4.097951e-03                                                          & FALSE                                                                \\\\\n",
       "\t I447                                                                  & I44.7 Left bundle-branch block, unspecified                           &  1738                                                                 & 4.123368e-03                                                          & FALSE                                                                \\\\\n",
       "\t D125                                                                  & D12.5 Sigmoid colon                                                   &  4996                                                                 & 5.782384e-03                                                          & FALSE                                                                \\\\\n",
       "\t E784                                                                  & E78.4 Other hyperlipidaemia                                           &    75                                                                 & 6.693471e-03                                                          & FALSE                                                                \\\\\n",
       "\t T823                                                                  & T82.3 Mechanical complication of other vascular grafts                &    96                                                                 & 6.848616e-03                                                          & FALSE                                                                \\\\\n",
       "\t R072                                                                  & R07.2 Precordial pain                                                 &  3582                                                                 & 8.786688e-03                                                          & FALSE                                                                \\\\\n",
       "\\end{tabular}\n"
      ],
      "text/markdown": [
       "\n",
       "coding | meaning | COUNTS | post | Univariate | \n",
       "|---|---|---|---|---|---|---|---|---|---|---|---|---|---|---|---|---|---|---|\n",
       "| I73                                                                   | I73 Other peripheral vascular diseases                                |     1                                                                 | 6.372607e-06                                                          | FALSE                                                                 | \n",
       "| I702                                                                  | I70.2 Atherosclerosis of arteries of the extremities                  |   555                                                                 | 1.537223e-04                                                          | FALSE                                                                 | \n",
       "| I220                                                                  | I22.0 Subsequent myocardial infarction of anterior wall               |    92                                                                 | 1.713416e-04                                                          | FALSE                                                                 | \n",
       "| I228                                                                  | I22.8 Subsequent myocardial infarction of other sites                 |    78                                                                 | 2.316062e-04                                                          | FALSE                                                                 | \n",
       "| Z959                                                                  | Z95.9 Presence of cardiac and vascular implant and graft, unspecified |   224                                                                 | 3.849170e-04                                                          | FALSE                                                                 | \n",
       "| I490                                                                  | I49.0 Ventricular fibrillation and flutter                            |   333                                                                 | 4.912591e-04                                                          | FALSE                                                                 | \n",
       "| I460                                                                  | I46.0 Cardiac arrest with successful resuscitation                    |   586                                                                 | 5.373121e-04                                                          | FALSE                                                                 | \n",
       "| I639                                                                  | I63.9 Cerebral infarction, unspecified                                |  2442                                                                 | 5.426719e-04                                                          | FALSE                                                                 | \n",
       "| I517                                                                  | I51.7 Cardiomegaly                                                    |  2565                                                                 | 7.276683e-04                                                          | FALSE                                                                 | \n",
       "| I64                                                                   | I64 Stroke, not specified as haemorrhage or infarction                |  1073                                                                 | 9.561926e-04                                                          | FALSE                                                                 | \n",
       "| Z921                                                                  | Z92.1 Personal history of long-term (current) use of anticoagulants   | 10091                                                                 | 1.023093e-03                                                          | FALSE                                                                 | \n",
       "| E039                                                                  | E03.9 Hypothyroidism, unspecified                                     | 14158                                                                 | 2.716036e-03                                                          | FALSE                                                                 | \n",
       "| I440                                                                  | I44.0 Atrioventricular block, first degree                            |   988                                                                 | 2.854749e-03                                                          | FALSE                                                                 | \n",
       "| I351                                                                  | I35.1 Aortic (valve) insufficiency                                    |   686                                                                 | 4.097951e-03                                                          | FALSE                                                                 | \n",
       "| I447                                                                  | I44.7 Left bundle-branch block, unspecified                           |  1738                                                                 | 4.123368e-03                                                          | FALSE                                                                 | \n",
       "| D125                                                                  | D12.5 Sigmoid colon                                                   |  4996                                                                 | 5.782384e-03                                                          | FALSE                                                                 | \n",
       "| E784                                                                  | E78.4 Other hyperlipidaemia                                           |    75                                                                 | 6.693471e-03                                                          | FALSE                                                                 | \n",
       "| T823                                                                  | T82.3 Mechanical complication of other vascular grafts                |    96                                                                 | 6.848616e-03                                                          | FALSE                                                                 | \n",
       "| R072                                                                  | R07.2 Precordial pain                                                 |  3582                                                                 | 8.786688e-03                                                          | FALSE                                                                 | \n",
       "\n",
       "\n"
      ],
      "text/plain": [
       "   coding meaning                                                               COUNTS post         Univariate\n",
       "1  I73    I73 Other peripheral vascular diseases                                    1  6.372607e-06 FALSE     \n",
       "2  I702   I70.2 Atherosclerosis of arteries of the extremities                    555  1.537223e-04 FALSE     \n",
       "3  I220   I22.0 Subsequent myocardial infarction of anterior wall                  92  1.713416e-04 FALSE     \n",
       "4  I228   I22.8 Subsequent myocardial infarction of other sites                    78  2.316062e-04 FALSE     \n",
       "5  Z959   Z95.9 Presence of cardiac and vascular implant and graft, unspecified   224  3.849170e-04 FALSE     \n",
       "6  I490   I49.0 Ventricular fibrillation and flutter                              333  4.912591e-04 FALSE     \n",
       "7  I460   I46.0 Cardiac arrest with successful resuscitation                      586  5.373121e-04 FALSE     \n",
       "8  I639   I63.9 Cerebral infarction, unspecified                                 2442  5.426719e-04 FALSE     \n",
       "9  I517   I51.7 Cardiomegaly                                                     2565  7.276683e-04 FALSE     \n",
       "10 I64    I64 Stroke, not specified as haemorrhage or infarction                 1073  9.561926e-04 FALSE     \n",
       "11 Z921   Z92.1 Personal history of long-term (current) use of anticoagulants   10091  1.023093e-03 FALSE     \n",
       "12 E039   E03.9 Hypothyroidism, unspecified                                     14158  2.716036e-03 FALSE     \n",
       "13 I440   I44.0 Atrioventricular block, first degree                              988  2.854749e-03 FALSE     \n",
       "14 I351   I35.1 Aortic (valve) insufficiency                                      686  4.097951e-03 FALSE     \n",
       "15 I447   I44.7 Left bundle-branch block, unspecified                            1738  4.123368e-03 FALSE     \n",
       "16 D125   D12.5 Sigmoid colon                                                    4996  5.782384e-03 FALSE     \n",
       "17 E784   E78.4 Other hyperlipidaemia                                              75  6.693471e-03 FALSE     \n",
       "18 T823   T82.3 Mechanical complication of other vascular grafts                   96  6.848616e-03 FALSE     \n",
       "19 R072   R07.2 Precordial pain                                                  3582  8.786688e-03 FALSE     "
      ]
     },
     "metadata": {},
     "output_type": "display_data"
    }
   ],
   "source": [
    "t = as.data.table( pp)\n",
    "uni = mi.univariate()[ pValue < 8e-6, .( coding = Code, Univariate = TRUE )]\n",
    "t = uni[t, on = \"coding\"]\n",
    "t[, Univariate := ifelse( is.na( Univariate ), FALSE, TRUE)]\n",
    "#t[ POST_ACTIVE > 0.999, .( coding, meaning, COUNTS, post = 1 - POST_ACTIVE, Univariate)][ order( post)]\n",
    "t[ POST_ACTIVE > 0.99 & !is.na( COUNTS ) & Univariate == FALSE, .( coding, meaning, COUNTS, post = 1 - POST_ACTIVE, Univariate)][ order( post)]\n"
   ]
  },
  {
   "cell_type": "markdown",
   "metadata": {},
   "source": [
    "Summarise comparison of findings in both analyses."
   ]
  },
  {
   "cell_type": "code",
   "execution_count": 11,
   "metadata": {
    "init_cell": true
   },
   "outputs": [
    {
     "data": {
      "text/html": [
       "<table>\n",
       "<thead><tr><th scope=col>Univariate</th><th scope=col>N</th></tr></thead>\n",
       "<tbody>\n",
       "\t<tr><td>FALSE</td><td>19   </td></tr>\n",
       "\t<tr><td> TRUE</td><td>48   </td></tr>\n",
       "</tbody>\n",
       "</table>\n"
      ],
      "text/latex": [
       "\\begin{tabular}{r|ll}\n",
       " Univariate & N\\\\\n",
       "\\hline\n",
       "\t FALSE & 19   \\\\\n",
       "\t  TRUE & 48   \\\\\n",
       "\\end{tabular}\n"
      ],
      "text/markdown": [
       "\n",
       "Univariate | N | \n",
       "|---|---|\n",
       "| FALSE | 19    | \n",
       "|  TRUE | 48    | \n",
       "\n",
       "\n"
      ],
      "text/plain": [
       "  Univariate N \n",
       "1 FALSE      19\n",
       "2  TRUE      48"
      ]
     },
     "metadata": {},
     "output_type": "display_data"
    }
   ],
   "source": [
    "t[ POST_ACTIVE > 0.99 & !is.na( COUNTS ), .N, by = \"Univariate\" ]"
   ]
  }
 ],
 "metadata": {
  "celltoolbar": "Initialization Cell",
  "kernelspec": {
   "display_name": "R",
   "language": "R",
   "name": "ir"
  },
  "language_info": {
   "codemirror_mode": "r",
   "file_extension": ".r",
   "mimetype": "text/x-r-source",
   "name": "R",
   "pygments_lexer": "r",
   "version": "3.4.2"
  }
 },
 "nbformat": 4,
 "nbformat_minor": 2
}
